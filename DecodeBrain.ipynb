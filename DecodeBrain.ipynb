{
  "nbformat": 4,
  "nbformat_minor": 0,
  "metadata": {
    "colab": {
      "name": "DecodeBrain.ipynb",
      "provenance": [],
      "authorship_tag": "ABX9TyMQu4gjc+8LIT4QrIswlr6+",
      "include_colab_link": true
    },
    "kernelspec": {
      "name": "python3",
      "display_name": "Python 3"
    },
    "language_info": {
      "name": "python"
    }
  },
  "cells": [
    {
      "cell_type": "markdown",
      "metadata": {
        "id": "view-in-github",
        "colab_type": "text"
      },
      "source": [
        "<a href=\"https://colab.research.google.com/github/XanaGA/MapEvaluation/blob/master/DecodeBrain.ipynb\" target=\"_parent\"><img src=\"https://colab.research.google.com/assets/colab-badge.svg\" alt=\"Open In Colab\"/></a>"
      ]
    },
    {
      "cell_type": "markdown",
      "source": [
        "# Download Data"
      ],
      "metadata": {
        "id": "Mejx5eQvaXrB"
      }
    },
    {
      "cell_type": "code",
      "source": [
        "! pip install -q kaggle\n",
        "\n",
        "from google.colab import files\n",
        "\n",
        "files.upload()\n",
        "\n",
        "! mkdir ~/.kaggle\n",
        "\n",
        "! cp kaggle.json ~/.kaggle/\n",
        "\n",
        "! chmod 600 ~/.kaggle/kaggle.json\n",
        "\n",
        "! kaggle competitions download -c decoding-the-human-brain"
      ],
      "metadata": {
        "id": "sw68mosTaSQY"
      },
      "execution_count": null,
      "outputs": []
    },
    {
      "cell_type": "code",
      "source": [
        "! mkdir train\n",
        "\n",
        "! unzip train_01_06.zip -d train\n",
        "! unzip train_07_12.zip -d train\n",
        "! unzip train_13_16.zip -d train"
      ],
      "metadata": {
        "id": "wovMoAO1tiuX",
        "colab": {
          "base_uri": "https://localhost:8080/"
        },
        "outputId": "7916e55f-634b-4416-ac88-55d7b1dfd49e"
      },
      "execution_count": null,
      "outputs": [
        {
          "output_type": "stream",
          "name": "stdout",
          "text": [
            "Archive:  train_01_06.zip\n",
            "  inflating: train/data/train_subject01.mat  \n",
            "  inflating: train/data/train_subject02.mat  \n",
            "  inflating: train/data/train_subject03.mat  \n",
            "  inflating: train/data/train_subject04.mat  \n",
            "  inflating: train/data/train_subject05.mat  \n",
            "  inflating: train/data/train_subject06.mat  \n",
            "Archive:  train_07_12.zip\n",
            "  inflating: train/data/train_subject07.mat  \n",
            "  inflating: train/data/train_subject08.mat  \n",
            "  inflating: train/data/train_subject09.mat  \n",
            "  inflating: train/data/train_subject10.mat  \n",
            "  inflating: train/data/train_subject11.mat  \n",
            "  inflating: train/data/train_subject12.mat  \n",
            "Archive:  train_13_16.zip\n",
            "  inflating: train/data/train_subject13.mat  \n",
            "  inflating: train/data/train_subject14.mat  \n",
            "  inflating: train/data/train_subject15.mat  \n",
            "  inflating: train/data/train_subject16.mat  \n"
          ]
        }
      ]
    },
    {
      "cell_type": "code",
      "source": [
        "! mkdir test\n",
        "\n",
        "! unzip test_17_23.zip -d test"
      ],
      "metadata": {
        "colab": {
          "base_uri": "https://localhost:8080/"
        },
        "id": "lHjFgzJWeTDW",
        "outputId": "6f00272a-652d-4e69-bb53-52c2c234c1a9"
      },
      "execution_count": null,
      "outputs": [
        {
          "output_type": "stream",
          "name": "stdout",
          "text": [
            "Archive:  test_17_23.zip\n",
            "  inflating: test/data/test_subject17.mat  \n",
            "  inflating: test/data/test_subject18.mat  \n",
            "  inflating: test/data/test_subject19.mat  \n",
            "  inflating: test/data/test_subject20.mat  \n",
            "  inflating: test/data/test_subject21.mat  \n",
            "  inflating: test/data/test_subject22.mat  \n",
            "  inflating: test/data/test_subject23.mat  \n"
          ]
        }
      ]
    },
    {
      "cell_type": "code",
      "source": [
        "! rm train_01_06.zip\n",
        "! rm train_07_12.zip\n",
        "! rm train_13_16.zip\n",
        "! rm test_17_23.zip"
      ],
      "metadata": {
        "id": "rkVT80Ixe_46"
      },
      "execution_count": null,
      "outputs": []
    },
    {
      "cell_type": "markdown",
      "source": [
        "# Read Data"
      ],
      "metadata": {
        "id": "3VJv05YDfVqz"
      }
    },
    {
      "cell_type": "code",
      "source": [
        "import scipy.io"
      ],
      "metadata": {
        "id": "i_lm_oLIfceC"
      },
      "execution_count": null,
      "outputs": []
    },
    {
      "cell_type": "code",
      "source": [
        "subj=scipy.io.loadmat('train/data/train_subject01.mat')"
      ],
      "metadata": {
        "id": "LRTzGlyQgL0u"
      },
      "execution_count": null,
      "outputs": []
    },
    {
      "cell_type": "code",
      "source": [
        "subj.keys()"
      ],
      "metadata": {
        "colab": {
          "base_uri": "https://localhost:8080/"
        },
        "id": "C0ZJRBiGgh07",
        "outputId": "100084b3-eaf5-45f6-fff3-845d769df38d"
      },
      "execution_count": null,
      "outputs": [
        {
          "output_type": "execute_result",
          "data": {
            "text/plain": [
              "dict_keys(['__header__', '__version__', '__globals__', 'tmin', 'tmax', 'sfreq', 'y', 'X'])"
            ]
          },
          "metadata": {},
          "execution_count": 11
        }
      ]
    },
    {
      "cell_type": "code",
      "source": [
        "subj['X'][0][0][0]"
      ],
      "metadata": {
        "colab": {
          "base_uri": "https://localhost:8080/"
        },
        "id": "xcWWH3Zigpub",
        "outputId": "193f31d1-11f5-45e5-ea4f-12369cb75fab"
      },
      "execution_count": null,
      "outputs": [
        {
          "output_type": "execute_result",
          "data": {
            "text/plain": [
              "4.7137402e-12"
            ]
          },
          "metadata": {},
          "execution_count": 21
        }
      ]
    },
    {
      "cell_type": "code",
      "source": [
        ""
      ],
      "metadata": {
        "id": "0VQiKe2vgzAK"
      },
      "execution_count": null,
      "outputs": []
    }
  ]
}